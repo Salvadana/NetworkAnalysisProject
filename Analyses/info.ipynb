{
  "cells": [
    {
      "cell_type": "markdown",
      "metadata": {
        "id": "GNFdwmt2GJxW"
      },
      "source": [
        "\"When Americans celebrated the first Earth Day on April 22, 1970, the planet's atmosphere was markedly different than it is today. Fifty years ago, scientists measured Earth's levels of carbon dioxide — the planet's most important greenhouse gas — at around 325 parts per million, or ppm.\n",
        "\n",
        "Now, five decades later, that number has shot up to around 412 ppm, nearly 90 ppm higher. It's a change atmospheric researchers, geologists, and climate scientists call unparalleled in at least 800,000 years, though it's likely carbon dioxide levels haven't been this high in millions of years.\n",
        "\n",
        "\"The rate of CO2 increase since the first Earth Day is unprecedented in the geologic record,\" said Dan Breecker, a paleoclimatologist at The University of Texas at Austin.\"\n",
        "https://mashable.com/article/earth-day-2019-climate-change-carbon-dioxide"
      ]
    }
  ],
  "metadata": {
    "colab": {
      "provenance": []
    },
    "kernelspec": {
      "display_name": "Python 3",
      "name": "python3"
    },
    "language_info": {
      "name": "python",
      "version": "3.10.0"
    }
  },
  "nbformat": 4,
  "nbformat_minor": 0
}
